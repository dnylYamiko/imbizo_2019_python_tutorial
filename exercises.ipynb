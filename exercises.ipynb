{
 "cells": [
  {
   "cell_type": "markdown",
   "metadata": {},
   "source": [
    "# Basic Python"
   ]
  },
  {
   "cell_type": "markdown",
   "metadata": {},
   "source": [
    "## A\n",
    "Write and run a cell that prints out the first 20 even terms in the Fibonacci sequence, where:\n",
    "\n",
    "$a_0 = a_1 = 1$\n",
    "\n",
    "$a_{n+1} = a_n + a_{n-1}$\n",
    "\n",
    "(Btw, you can put TeX equations in Jupyter cells too by surrounding them with $ symbols. What fun!)"
   ]
  },
  {
   "cell_type": "code",
   "execution_count": null,
   "metadata": {},
   "outputs": [],
   "source": [
    "# solution\n",
    "..."
   ]
  },
  {
   "cell_type": "markdown",
   "metadata": {},
   "source": [
    "## B\n",
    "\n",
    "Write a function that takes a list of 10 numbers as its argument and returns the average of the top 3 values. Make sure to give it a good name, and test it with the following inputs:\n",
    "\n",
    "[0, 1, 2, 3, 4, 5, 6, 7, 8, 9]\n",
    "\n",
    "[9, 8, 7, 6, 5, 4, 3, 2, 1, 0]\n",
    "\n",
    "[1, -1, 2, -2, 3, -3, 4, -4, 5, -5]"
   ]
  },
  {
   "cell_type": "code",
   "execution_count": null,
   "metadata": {},
   "outputs": [],
   "source": [
    "# define function\n",
    "..."
   ]
  },
  {
   "cell_type": "code",
   "execution_count": null,
   "metadata": {},
   "outputs": [],
   "source": [
    "# define inputs and call function\n",
    "..."
   ]
  },
  {
   "cell_type": "markdown",
   "metadata": {},
   "source": [
    "## C\n",
    "\n",
    "Write a function to test if a list is a palindrome (if it's the same forwards and backwards) and test it on the following:\n",
    "\n",
    "`l_0 = [1, 1, 3, 1, 1]`\n",
    "\n",
    "`l_1 = [1, 2, 3, 5, 6]`\n",
    "\n",
    "`l_2 = [1, 2, 3, 2, 1]`"
   ]
  },
  {
   "cell_type": "code",
   "execution_count": null,
   "metadata": {},
   "outputs": [],
   "source": [
    "# define function\n",
    "...\n",
    "\n",
    "# call function\n",
    "..."
   ]
  },
  {
   "cell_type": "markdown",
   "metadata": {},
   "source": [
    "# Scientific Python"
   ]
  },
  {
   "cell_type": "markdown",
   "metadata": {},
   "source": [
    "## A\n",
    "Question 1: what does it mean if you get the following error?\n",
    "```\n",
    "NameError: name 'np' is not defined\n",
    "```"
   ]
  },
  {
   "cell_type": "markdown",
   "metadata": {},
   "source": [
    "## B\n",
    "\n",
    "Question 2: What does it mean if your plots don't show up, but no error is thrown?"
   ]
  },
  {
   "cell_type": "markdown",
   "metadata": {},
   "source": [
    "### ###"
   ]
  },
  {
   "cell_type": "markdown",
   "metadata": {},
   "source": [
    "We'll put in our usual scientific boiler plate for the rest of the exercises."
   ]
  },
  {
   "cell_type": "code",
   "execution_count": null,
   "metadata": {},
   "outputs": [],
   "source": [
    "%matplotlib inline\n",
    "import matplotlib.pyplot as plt\n",
    "import numpy as np"
   ]
  },
  {
   "cell_type": "markdown",
   "metadata": {},
   "source": [
    "## C\n",
    "\n",
    "Create an array of the square roots of the first 5 odd integers."
   ]
  },
  {
   "cell_type": "code",
   "execution_count": null,
   "metadata": {},
   "outputs": [],
   "source": [
    "# solution\n",
    "..."
   ]
  },
  {
   "cell_type": "markdown",
   "metadata": {},
   "source": [
    "## D\n",
    "\n",
    "Create a 7 x 7 array of uniformly distributed random numbers between -5 and 5. Then set all negative values to zero."
   ]
  },
  {
   "cell_type": "code",
   "execution_count": null,
   "metadata": {},
   "outputs": [],
   "source": [
    "# solution\n",
    "..."
   ]
  },
  {
   "cell_type": "markdown",
   "metadata": {},
   "source": [
    "## Problem 1"
   ]
  },
  {
   "cell_type": "markdown",
   "metadata": {},
   "source": [
    "The data file noise.npy contains a 1-D time array `t` and a 1-D white noise array `x` of the same length as `t`. The data was saved in the following way:\n",
    "\n",
    "```\n",
    "save_data = {'t': t, 'x': x}\n",
    "np.save('noise.npy', np.array([save_data]))\n",
    "```\n",
    "\n",
    "A. Load the data and retrieve `t` and `x` from the file.\n",
    "\n",
    "B. Plot `x` vs `t` on in a figure and label the axes.\n",
    "\n",
    "C. How long is `t`? What is the sampling frequency (1/timestep)? (Assume `t` is in seconds.) What are the mean and standard deviation of `x`?"
   ]
  },
  {
   "cell_type": "code",
   "execution_count": null,
   "metadata": {},
   "outputs": [],
   "source": [
    "# load data\n",
    "...\n",
    "\n",
    "# make figure and axis\n",
    "...\n",
    "\n",
    "# plot data\n",
    "...\n",
    "\n",
    "# calculate average sampling frequency\n",
    "..."
   ]
  },
  {
   "cell_type": "markdown",
   "metadata": {},
   "source": [
    "D. Write a function called `smooth_ma` that takes in `t`, `x` and a time window `t_wdw` and returns a version of `x`, called `x_ma`, smoothed with a moving average (ma). E.g. if `t_wdw = 0.1` (100 ms), the value of `x_ma` at `t = 2.3` would be an average of all `x` between `t = 2.25` and `t = 2.35`. For `t < t_wdw/2`, just take the average of the values of `x` with `t >=0`. Likewise when `t > t.max() - t_wdw/2`.\n",
    "\n",
    "E. Using `smooth_ma`, create versions of `x` smoothed with the following time windows: 50 ms, 100 ms, 500 ms, 1 s.\n",
    "\n",
    "F. Create a new figure with the original `x` and all smoothed versions overlaid in different colors."
   ]
  },
  {
   "cell_type": "code",
   "execution_count": null,
   "metadata": {},
   "outputs": [],
   "source": [
    "# define smoothing function\n",
    "..."
   ]
  },
  {
   "cell_type": "code",
   "execution_count": null,
   "metadata": {},
   "outputs": [],
   "source": [
    "# define time windows to loop over\n",
    "...\n",
    "\n",
    "# loop over time windows\n",
    "...\n",
    "    \n",
    "# plot results\n",
    "...\n",
    "\n",
    "# plot original\n",
    "..."
   ]
  },
  {
   "cell_type": "markdown",
   "metadata": {
    "collapsed": true
   },
   "source": [
    "### Bonus problem\n",
    "Do the same loading the data from the csv file `noise.csv`."
   ]
  },
  {
   "cell_type": "markdown",
   "metadata": {},
   "source": [
    "## Problem 2\n",
    "\n",
    "Let's do some real neuroscience now. Consider a leaky integrate-and-fire neuron that takes in a time-varying input:\n",
    "\n",
    "$\\tau\\cfrac{dv}{dt} = -(v - v_{rest}) + I(t)R$\n",
    "\n",
    "$v > v_{th} \\implies v \\rightarrow v_{rest}$\n",
    "\n",
    "\n",
    "Using the simulation section in [2_scientific_python](2_scientific_python.ipynb) as a guide, do the following:\n",
    "\n",
    "A. Write a function that takes in: (1) an numerical integration timestep `dt`, (2) `i`, a time-varying current input, (3) a dict of other params `{'V_REST': -0.068, 'TAU': 0.03, 'V_TH': -0.04, 'R': 20e6}`; and returns (1) a 1-D time array `t`, a 1-D voltage array `v`, and a 1-D array of spike times `spks`. Assume $v(t=0) = v_{rest}$."
   ]
  },
  {
   "cell_type": "code",
   "execution_count": null,
   "metadata": {},
   "outputs": [],
   "source": [
    "# define LIF response function\n",
    "def run_lif_smln(dt, i, params):\n",
    "    \"\"\"Simulate leaky integrate-and-fire neuron response to input current.\"\"\"\n",
    "    # set up relevant variables\n",
    "    ...\n",
    "\n",
    "    # run smln\n",
    "    for ...\n",
    "\n",
    "        # update voltage\n",
    "        ...\n",
    "        # check for/store spike\n",
    "        ...\n",
    "        \n",
    "    return ts, vs, np.array(spks)"
   ]
  },
  {
   "cell_type": "markdown",
   "metadata": {},
   "source": [
    "B. Test your function by driving a simulated neuron with a constant `I(t) = 1.5 nA` for 1 second, with `dt = 0.001` (1 ms). Plot the resulting voltages and spikes. Label the axes, add a legend indicating the voltage and spikes, and put the time-averaged firing rate in the axis title."
   ]
  },
  {
   "cell_type": "code",
   "execution_count": null,
   "metadata": {},
   "outputs": [],
   "source": [
    "# drive neuron with constant current input\n",
    "...\n",
    "\n",
    "# calc avg firing rate\n",
    "...\n",
    "\n",
    "# make plot\n",
    "..."
   ]
  },
  {
   "cell_type": "markdown",
   "metadata": {},
   "source": [
    "C. Use your function to drive a simulated neuron with a \"white-noise\" `I(t)` of 1 second duration, i.e. where each element of `I` is a Gaussian distributed random variable with mean 0 and STD `10 nA`. Make a (2 x 1) axis array where the top axis shows `I(t)` and the bottom axis shows the voltage and spike responses. Label all axes and put the time-averaged firing rate in the title of the bottom axis showing the voltage/spikes."
   ]
  },
  {
   "cell_type": "code",
   "execution_count": null,
   "metadata": {},
   "outputs": [],
   "source": [
    "# drive neuron with white noise current input\n",
    "...\n",
    "\n",
    "# calc avg firing rate\n",
    "...\n",
    "\n",
    "# make plot\n",
    "..."
   ]
  },
  {
   "cell_type": "markdown",
   "metadata": {},
   "source": [
    "D. Loop over 50 evenly spaced STDs of `I(t)`, from 1 to 50 nA, with mean 0. Make a plot showing time-averaged firing rate vs. the STD of `I(t)`. Repeat for two other values of `TAU` of your choosing, as well as the original TAU = 30 ms, and plot them on the same plot with different colors."
   ]
  },
  {
   "cell_type": "code",
   "execution_count": null,
   "metadata": {},
   "outputs": [],
   "source": [
    "# define TAUs\n",
    "...\n",
    "\n",
    "# define current input STDs\n",
    "...\n",
    "\n",
    "# make data structure for storing results\n",
    "...\n",
    "\n",
    "# loop over TAUs\n",
    "for ...\n",
    "    # set TAU\n",
    "    params['TAU'] = tau\n",
    "    \n",
    "    # loop over current input stds\n",
    "    for ...\n",
    "    \n",
    "        # make current input\n",
    "        ...\n",
    "        \n",
    "        # drive neuron with current input\n",
    "        ...\n",
    "        \n",
    "        # calc avg firing rate\n",
    "        ...\n",
    "        \n",
    "        # store avg firing rate\n",
    "        ...\n",
    "        \n",
    "# plot firing rate vs current input STD\n",
    "..."
   ]
  },
  {
   "cell_type": "markdown",
   "metadata": {},
   "source": [
    "### Bonus problem\n",
    "Plot the inter-spike interval distribution (the distribution of times between spikes) for I_STD = 25 nA and two different TAUs."
   ]
  }
 ],
 "metadata": {
  "kernelspec": {
   "display_name": "Python 3",
   "language": "python",
   "name": "python3"
  },
  "language_info": {
   "codemirror_mode": {
    "name": "ipython",
    "version": 3
   },
   "file_extension": ".py",
   "mimetype": "text/x-python",
   "name": "python",
   "nbconvert_exporter": "python",
   "pygments_lexer": "ipython3",
   "version": "3.5.2"
  }
 },
 "nbformat": 4,
 "nbformat_minor": 2
}
